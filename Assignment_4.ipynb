{
 "cells": [
  {
   "cell_type": "markdown",
   "id": "9e7bf0d1",
   "metadata": {},
   "source": [
    "1. What exactly is []?\n",
    "\n",
    "[] is an empty list in Python. It is a list that contains no elements."
   ]
  },
  {
   "cell_type": "markdown",
   "id": "2915ee53",
   "metadata": {},
   "source": [
    "2. In a list of values stored in a variable called spam, how would you assign the value &#39;hello&#39; as the third value? (Assume [2, 4, 6, 8, 10] are in spam.)\n",
    "\n",
    "spam = [2, 4, 6, 8, 10]\n",
    "spam[2] = 'hello'  "
   ]
  },
  {
   "cell_type": "markdown",
   "id": "82165199",
   "metadata": {},
   "source": [
    "Let's pretend the spam includes the list ['a', 'b', 'c', ''d'] for the next three queries."
   ]
  },
  {
   "cell_type": "markdown",
   "id": "9b79d4ea",
   "metadata": {},
   "source": [
    "3. What is the value of spam[int(int('3'* 2) / 11)]?\n",
    "\n",
    "int('3' * 2) evaluates to int('33'), which is 33.\n",
    "33 / 11 is 3.\n",
    "spam[3] is 'd'.\n",
    "\n",
    "spam = ['a', 'b', 'c', 'd']\n",
    "result = spam[int(int('3' * 2) / 11)]  # This results in 'd'.\n"
   ]
  },
  {
   "cell_type": "markdown",
   "id": "1894b6bb",
   "metadata": {},
   "source": [
    "4. What is the value of spam[-1]?\n",
    "\n",
    "spam[-1] gives the last element of the list.\n",
    "spam = ['a', 'b', 'c', 'd']\n",
    "result = spam[-1]  # This results in 'd'."
   ]
  },
  {
   "cell_type": "markdown",
   "id": "307212ae",
   "metadata": {},
   "source": [
    "5. What is the value of spam[:2]?\n",
    "\n",
    "spam[:2] gives a slice of the list from the beginning to (but not including) index 2.\n",
    "spam = ['a', 'b', 'c', 'd']\n",
    "result = spam[:2]  # This results in ['a', 'b'].\n"
   ]
  },
  {
   "cell_type": "markdown",
   "id": "4ef69868",
   "metadata": {},
   "source": [
    "Let's pretend bacon has the list [3.14,'cat', 11, 'cat', True] for the next three questions."
   ]
  },
  {
   "cell_type": "markdown",
   "id": "6c55393c",
   "metadata": {},
   "source": [
    "6. What is the value of bacon.index('cat')?\n",
    "bacon.index('cat') returns the index of the first occurrence of 'cat'. that is 1"
   ]
  },
  {
   "cell_type": "code",
   "execution_count": 8,
   "id": "316a036c",
   "metadata": {},
   "outputs": [],
   "source": [
    "bacon = [3.14, 'cat', 11, 'cat', True]\n",
    "result = bacon.index('cat')  # This results in 1.\n"
   ]
  },
  {
   "cell_type": "markdown",
   "id": "3214b0ca",
   "metadata": {},
   "source": [
    "7. How does bacon.append(99) change the look of the list value in bacon?\n",
    "\n",
    "bacon.append(99) adds 99 to the end of the list.\n",
    "\n",
    "The list becomes [3.14, 'cat', 11, 'cat', True, 99]."
   ]
  },
  {
   "cell_type": "markdown",
   "id": "696f3b99",
   "metadata": {},
   "source": [
    "8. How does bacon.remove(&#39;cat&#39;) change the look of the list in bacon?\n",
    "\n",
    "bacon.remove('cat') removes the first occurrence of 'cat' from the list.\n",
    " \n",
    " The list becomes [3.14, 11, 'cat', True]."
   ]
  },
  {
   "cell_type": "markdown",
   "id": "3814f90c",
   "metadata": {},
   "source": [
    "9. What are the list concatenation and list replication operators?\n",
    "\n",
    "The list concatenation operator is +.\n",
    "\n",
    "The list replication operator is *."
   ]
  },
  {
   "cell_type": "markdown",
   "id": "fc911be3",
   "metadata": {},
   "source": [
    "10. What is difference between the list methods append() and insert()?\n",
    "\n",
    "append() adds an element to the end of the list.\n",
    "\n",
    "insert(index, element) adds an element at a specified position in the list."
   ]
  },
  {
   "cell_type": "markdown",
   "id": "d7005d83",
   "metadata": {},
   "source": [
    "11. What are the two methods for removing items from a list?\n",
    "\n",
    "remove(element) removes the first occurrence of the specified element.\n",
    "\n",
    "pop(index) removes the element at the specified index and returns it."
   ]
  },
  {
   "cell_type": "markdown",
   "id": "14845579",
   "metadata": {},
   "source": [
    "12. Describe how list values and string values are identical.\n",
    "\n",
    "Both lists and strings are sequences, meaning they support indexing, slicing, and iteration.\n",
    "\n",
    "Both can be concatenated using + and repeated using *."
   ]
  },
  {
   "cell_type": "markdown",
   "id": "84cb42bf",
   "metadata": {},
   "source": [
    "13. What's the difference between tuples and lists?\n",
    "\n",
    "Lists are mutable, meaning their elements can be changed.\n",
    "\n",
    "Tuples are immutable, meaning once they are created, their elements cannot be changed."
   ]
  },
  {
   "cell_type": "markdown",
   "id": "634995fa",
   "metadata": {},
   "source": [
    "14. How do you type a tuple value that only contains the integer 42?\n",
    "\n",
    "single_element_tuple = (42,)"
   ]
  },
  {
   "cell_type": "markdown",
   "id": "e7baba43",
   "metadata": {},
   "source": [
    "15. How do you get a list value's tuple form? How do you get a tuple value's list form?\n",
    "\n",
    "To convert a list to a tuple: tuple(list_value)\n",
    "\n",
    "To convert a tuple to a list: list(tuple_value)"
   ]
  },
  {
   "cell_type": "markdown",
   "id": "42f0da6d",
   "metadata": {},
   "source": [
    "16. Variables that 'contain' list values are not necessarily lists themselves. Instead, what do they contain?\n",
    "\n",
    "Variables contain references to list objects in memory."
   ]
  },
  {
   "cell_type": "markdown",
   "id": "8838eb3d",
   "metadata": {},
   "source": [
    "17. How do you distinguish between copy.copy() and copy.deepcopy()?\n",
    "\n",
    "copy.copy() creates a shallow copy of a list, meaning it copies the list but not the objects within it.\n",
    "\n",
    "copy.deepcopy() creates a deep copy of a list, meaning it copies the list and all the objects within it recursively."
   ]
  }
 ],
 "metadata": {
  "kernelspec": {
   "display_name": "Python 3 (ipykernel)",
   "language": "python",
   "name": "python3"
  },
  "language_info": {
   "codemirror_mode": {
    "name": "ipython",
    "version": 3
   },
   "file_extension": ".py",
   "mimetype": "text/x-python",
   "name": "python",
   "nbconvert_exporter": "python",
   "pygments_lexer": "ipython3",
   "version": "3.9.10"
  }
 },
 "nbformat": 4,
 "nbformat_minor": 5
}
