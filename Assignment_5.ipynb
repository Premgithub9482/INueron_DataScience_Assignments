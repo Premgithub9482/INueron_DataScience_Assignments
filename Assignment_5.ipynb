{
 "cells": [
  {
   "cell_type": "markdown",
   "id": "b660195d",
   "metadata": {},
   "source": [
    "1. What does an empty dictionary's code look like?\n",
    "\n",
    "    An empty dictionary in Python is represented by curly braces {}.\n",
    "    \n",
    "    empty_dict = {}"
   ]
  },
  {
   "cell_type": "markdown",
   "id": "80b99eee",
   "metadata": {},
   "source": [
    "2. What is the value of a dictionary value with the key 'foo' and the value 42?\n",
    "\n",
    "    If you have a dictionary spam with a key 'foo' and a value 42, it would look like this:\n",
    "    \n",
    "    spam = {'foo': 42}\n",
    "    \n",
    "    Here, 'foo' is the key and 42 is the corresponding value."
   ]
  },
  {
   "cell_type": "markdown",
   "id": "cc815fb3",
   "metadata": {},
   "source": [
    "3. What is the most significant distinction between a dictionary and a list?\n",
    "\n",
    "    The most significant distinction between a dictionary and a list is how they store elements:\n",
    "\n",
    "    Dictionary: Stores elements as key-value pairs. Keys are unique and immutable (typically strings or numbers), and each key maps to a value.\n",
    "    \n",
    "    List: Stores elements as a sequence, where each element is indexed by a numerical index (starting from 0). Lists are ordered and mutable (elements can be added, removed, or changed)."
   ]
  },
  {
   "cell_type": "markdown",
   "id": "2c5501d8",
   "metadata": {},
   "source": [
    "4. What happens if you try to access spam['foo'] if spam is {'bar': 100}?\n",
    "    \n",
    "    If you try to access spam['foo'] where spam is {'bar': 100}, you'll get a KeyError because 'foo' does not exist as a key in the dictionary spam."
   ]
  },
  {
   "cell_type": "markdown",
   "id": "0c62d9c1",
   "metadata": {},
   "source": [
    "5. If a dictionary is stored in spam, what is the difference between the expressions 'cat' in spam and 'cat' in spam.keys()?\n",
    "\n",
    "    'cat' in spam checks if there exists a key 'cat' in spam.\n",
    "    \n",
    "    'cat' in spam.keys() also checks if 'cat' exists as a key in spam. In Python 3, '.keys()' returns a view object that provides a view on the dictionary's keys."
   ]
  },
  {
   "cell_type": "markdown",
   "id": "41cfac57",
   "metadata": {},
   "source": [
    "6. If a dictionary is stored in spam, what is the difference between the expressions 'cat' in spam and 'cat' in spam.values()?\n",
    "\n",
    "    'cat' in spam checks if there exists a key 'cat' in spam.\n",
    "    \n",
    "    'cat' in spam.values() checks if 'cat' exists as a value in spam."
   ]
  },
  {
   "cell_type": "markdown",
   "id": "7d1ea08f",
   "metadata": {},
   "source": [
    "7. What is a shortcut for the following code?\n",
    "    if 'color' not in spam:\n",
    "    spam['color'] = 'black'\n",
    "    \n",
    "      Short of the above code is:\n",
    "       spam.setdefault('color', 'black')"
   ]
  },
  {
   "cell_type": "markdown",
   "id": "d097b4bf",
   "metadata": {},
   "source": [
    "8. How do you &quot;pretty print&quot; dictionary values using which module and function?\n",
    "\n",
    "    To \"pretty print\" dictionary values, you can use the pprint module (pprint stands for \"pretty print\"):\n",
    "   \n",
    "    import pprint\n",
    "\n",
    "    spam = {'name': 'Alice', 'age': 30, 'city': 'New York'}\n",
    "    \n",
    "    pprint.pprint(spam)\n"
   ]
  }
 ],
 "metadata": {
  "kernelspec": {
   "display_name": "Python 3 (ipykernel)",
   "language": "python",
   "name": "python3"
  },
  "language_info": {
   "codemirror_mode": {
    "name": "ipython",
    "version": 3
   },
   "file_extension": ".py",
   "mimetype": "text/x-python",
   "name": "python",
   "nbconvert_exporter": "python",
   "pygments_lexer": "ipython3",
   "version": "3.11.5"
  }
 },
 "nbformat": 4,
 "nbformat_minor": 5
}
