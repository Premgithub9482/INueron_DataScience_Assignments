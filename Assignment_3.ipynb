{
 "cells": [
  {
   "cell_type": "markdown",
   "id": "323b68c1",
   "metadata": {},
   "source": [
    "1. Why are functions advantageous to have in your programs?\n",
    "\n",
    "    Functions provide several advantages in programming:\n",
    "    Modularity:\n",
    "        Functions allow you to break down a program into smaller, manageable parts (modules).\n",
    "        Each function performs a specific task, making the code modular and easier to understand.\n",
    "    \n",
    "    Reusability:\n",
    "        Once a function is defined, it can be reused in different parts of the program or even in other programs.\n",
    "        Promotes code reuse, reducing redundancy and making maintenance easier.\n",
    "       \n",
    "    Abstraction:\n",
    "        Functions provide a level of abstraction, allowing you to focus on the functionality of a specific task without worrying\n",
    "        about its internal implementation.\n",
    "        Users of the function only need to know how to use it (the function's interface) without understanding its internal\n",
    "        details.\n",
    "\n",
    "    Readability:\n",
    "        Breaking down a program into functions makes the code more readable and easier to follow.\n",
    "        Each function can have a clear, specific purpose, enhancing overall code readability.\n",
    "    \n",
    "    Testing and Debugging:\n",
    "        Functions facilitate easier testing and debugging since you can isolate and test individual functions independently.\n",
    "        Bugs in a specific function can be identified and fixed without affecting the rest of the program.\n",
    "    \n",
    "    Scoping:\n",
    "        Functions introduce scope, meaning that variables defined inside a function are local to that function, preventing\n",
    "        naming conflicts with variables in other parts of the program.\n",
    "    \n",
    "    Parameterization:\n",
    "        Functions can take parameters, allowing you to create more flexible and versatile code that can adapt to different\n",
    "        inputs.\n",
    "\n",
    "    Encapsulation:\n",
    "        Functions provide a way to encapsulate logic, making it easier to understand and manage the overall flow of a program.\n",
    "        \n",
    "    functions enhance code organization, promote reuse, improve readability, and simplify testing and debugging. They are \n",
    "    fundamental building block in creating structured, maintainable, and scalable software."
   ]
  },
  {
   "cell_type": "markdown",
   "id": "60472dd5-f18a-46ba-b72e-d53c463173e0",
   "metadata": {},
   "source": [
    "2. When does the code in a function run: when it's specified or when it's called?\n",
    "\n",
    "    The code in a function runs when the function is called, not when it's specified or defined.\n",
    "    \n",
    "    Function Definition:\n",
    "        When you define a function, you are essentially creating a blueprint or a set of instructions for a specific task.\n",
    "        The code inside the function is not executed at the point of definition; it is merely stored until the function is\n",
    "        called.\n",
    "        \n",
    "    Function Call:\n",
    "        To execute the code inside a function, you need to call or invoke the function.\n",
    "        When a function is called, the program transfers control to the function, and the code inside the function block is\n",
    "        executed.\n",
    "        \n",
    "    def my_function():\n",
    "        print(\"This is inside the function.\")\n",
    "\n",
    "    my_function()\n",
    "    \n",
    "    The above code inside my_function is executed only when the function is called with my_function(). Until the function is\n",
    "    called, the code inside it remains dormant."
   ]
  },
  {
   "cell_type": "markdown",
   "id": "14d34e91-288b-4f02-8644-9b931961762e",
   "metadata": {},
   "source": [
    "3. What statement creates a function?\n",
    "\n",
    "    The def statement is used to create a function in Python.\n",
    "    def function_name(parameters):\n",
    "        # function code block\n",
    "    return result"
   ]
  },
  {
   "cell_type": "markdown",
   "id": "699e3bf4-160c-4106-8bbd-0d59fb94a433",
   "metadata": {},
   "source": [
    "4. What is the difference between a function and a function call?\n",
    "\n",
    "    The terms \"function\" and \"function call\" refer to different aspects of using functions in programming:\n",
    "    \n",
    "    Function:\n",
    "        A function is a block of code that performs a specific task or set of tasks\n",
    "        It is defined using the def keyword in Python.\n",
    "        Functions may or may not accept parameters (inputs).\n",
    "        Functions may or may not return a value.\n",
    "    def greet(name):\n",
    "    print(f\"Hello, {name}!\")\n",
    "\n",
    "    Function Call:\n",
    "        A function call is the act of invoking or executing a function to perform its defined task.\n",
    "        It involves specifying the function name followed by parentheses (), which may contain arguments (values passed to the\n",
    "          function, if any).\n",
    "        When a function is called, the program transfers control to the function, and the code inside the function is executed.\n",
    "    greet(\"Alice\") # calling the function greet\n"
   ]
  },
  {
   "cell_type": "markdown",
   "id": "07e99ffb-2f50-4fdf-acd8-1096b1dac738",
   "metadata": {},
   "source": [
    "5. How many global scopes are there in a Python program? How many local scopes?\n",
    "\n",
    "    In a Python program, there is typically one global scope and multiple local scopes.\n",
    "    \n",
    "    Global Scope:\n",
    "        There is only one global scope in a Python program.\n",
    "        The global scope encompasses the entire program and is outside of any function or class.\n",
    "        Variables defined in the global scope are accessible from any part of the program.\n",
    "        \n",
    "        global_variable = 10  # Variable in the global scope\n",
    "        def my_function():\n",
    "            print(global_variable)  # Accessing global_variable\n",
    "        my_function()  # Calling the function\n",
    "        \n",
    "    Local Scopes:\n",
    "        Local scopes are created whenever a function is called.\n",
    "        Each function has its own local scope, isolated from the global scope and other function scopes.\n",
    "        Variables defined inside a function are local to that function and cannot be directly accessed from outside.\n",
    "        \n",
    "        def my_function():\n",
    "            local_variable = 5  # Variable in the local scope of my_function\n",
    "            print(local_variable)\n",
    "        my_function()  # Calling the function\n",
    "\n",
    "\n",
    "    ->One global scope exists for the entire program.\n",
    "    ->Each function call creates its own local scope.\n",
    "    ->Variables in the global scope are accessible throughout the program.\n",
    "    ->Variables in local scopes are limited to the function in which they are defined."
   ]
  },
  {
   "cell_type": "markdown",
   "id": "13d1f87a-f426-45d9-a135-e0fed60df9b0",
   "metadata": {},
   "source": [
    "6. What happens to variables in a local scope when the function call returns?\n",
    "\n",
    "    When a function call returns, the local scope associated with that function is destroyed, and any variables defined within\n",
    "    that local scope cease to exist. This process is known as the \"lifetime\" or \"scope\" of variables.\n",
    "    \n",
    "    def my_function():\n",
    "        local_variable = 5\n",
    "    return local_variable\n",
    "    result = my_function()\n",
    "    print(local_variable) # This would result in an error; local_variable is not definied in this scope\n",
    "\n"
   ]
  },
  {
   "cell_type": "markdown",
   "id": "b5f7ba74-09b1-4d30-94dd-2bf941564b45",
   "metadata": {},
   "source": [
    "7. What is the concept of a return value? Is it possible to have a return value in an expression?\n",
    "\n",
    "    In programming, a return value is the value that a function returns after it has been called and executed. In Python, functions can return a value\n",
    "    using the return statement. The return value is the result of the function's computation and can be used by the calling code.\n",
    "    \n",
    "    def add_numbers(a, b):\n",
    "        result = a + b\n",
    "        return result\n",
    "    \n",
    "    sum_result = add_numbers(3, 5) # Calling the function and storing the return value in a variable\n",
    "    print(sum_result) #  Printing the return value\n",
    "    \n",
    "    Yes, it is possible to use a return value in an expression. For example:\n",
    "    result = add_numbers(2, 4) * 3  # using return value in an expression.\n",
    "    print(result)\n",
    "\n"
   ]
  },
  {
   "cell_type": "code",
   "execution_count": 2,
   "id": "09940eaa-ff41-4e00-adf4-b4d0fc1092b5",
   "metadata": {},
   "outputs": [
    {
     "name": "stdout",
     "output_type": "stream",
     "text": [
      "This function does not have a return statement\n",
      "None\n"
     ]
    }
   ],
   "source": [
    "# 8. If a function does not have a return statement, what is the return value of a call to that function?\n",
    "\n",
    "''' In Python, if a function does not have a return statement, or if the return statement is without any value, the function implicitly returns a\n",
    "    special value called None. None is a built-in constant representing the absence of a value or a null value.'''\n",
    "    \n",
    "def my_function():\n",
    "    print(\"This function does not have a return statement\")\n",
    "\n",
    "# Calling the function\n",
    "result = my_function()\n",
    "\n",
    "# Printing the result\n",
    "print(result)\n"
   ]
  },
  {
   "cell_type": "code",
   "execution_count": 4,
   "id": "0b11875a-688e-4440-a769-abf859bba24f",
   "metadata": {},
   "outputs": [
    {
     "name": "stdout",
     "output_type": "stream",
     "text": [
      "Before: 10\n",
      "After: 15\n"
     ]
    }
   ],
   "source": [
    "# 9. How do you make a function variable refer to the global variable?\n",
    "\n",
    "'''In Python, if you want to make a function variable refer to the global variable (i.e., access or modify the global variable from within a\n",
    "function), you can use the global keyword. The global keyword declares a variable as global within the function, meaning that any changes made to\n",
    "that variable inside the function will affect the global variable.'''\n",
    "    \n",
    "global_variable = 10  # Global variable\n",
    "\n",
    "def modify_global_variable():\n",
    "    global global_variable  # Declare global_variable as global\n",
    "    global_variable += 5\n",
    "\n",
    "# Before calling the function\n",
    "print(\"Before:\", global_variable)\n",
    "\n",
    "# Call the function\n",
    "modify_global_variable()\n",
    "\n",
    "# After calling the function\n",
    "print(\"After:\", global_variable)\n"
   ]
  },
  {
   "cell_type": "code",
   "execution_count": 5,
   "id": "48decfcc-f3db-4f58-a2ba-be7138fb93a4",
   "metadata": {},
   "outputs": [
    {
     "name": "stdout",
     "output_type": "stream",
     "text": [
      "<class 'NoneType'>\n"
     ]
    }
   ],
   "source": [
    "# 10. What is the data type of None?\n",
    "\n",
    "    \n",
    "'''In Python, None is a special constant representing the absence of a value or a null value. It is often used to signify that a variable or a\n",
    "function has no assigned value or that a particular condition is not applicable.\n",
    "\n",
    "The data type of None is NoneType. You can check the type of a variable using the type() function:'''\n",
    "result = None\n",
    "print(type(result)) \n"
   ]
  },
  {
   "cell_type": "markdown",
   "id": "92718e5c-e15a-41bb-96b5-072edec19f41",
   "metadata": {},
   "source": [
    "11. What does the sentence import areallyourpetsnamederic do?\n",
    "\n",
    "    The sentence import areallyourpetsnamederic is syntactically correct in Python, but it doesn't have any built-in meaning in the Python language.\n",
    "\n",
    "    In Python, the import keyword is used to 'import' modules or packages, and the module or package name follows the import keyword. In the given\n",
    "    sentence, 'areallyourpetsnamederic' is not a standard Python module or package, so attempting to execute this statement would typically result in\n",
    "    a 'ModuleNotFoundError' unless there's a module with that name in the current working directory or in a location specified in the Python path."
   ]
  },
  {
   "cell_type": "markdown",
   "id": "746e9de5-4b12-4214-80fa-3001b8d34623",
   "metadata": {},
   "source": [
    "12. If you had a bacon() feature in a spam module, what would you call it after importing spam?\n",
    "\n",
    "    \n",
    "    If we have a bacon() function in a module named spam and we want to call it after importing the spam module, we would call it using the\n",
    "    following syntax:\n",
    "    \n",
    "    import spam\n",
    "    \n",
    "    spam.bacon()  # Call the bacon() function from the spam module\n",
    " "
   ]
  },
  {
   "cell_type": "code",
   "execution_count": 7,
   "id": "a599cf1c-afd7-4200-8a3a-58943e0d5592",
   "metadata": {},
   "outputs": [
    {
     "name": "stdout",
     "output_type": "stream",
     "text": [
      "Error: division by zero\n",
      "This will be executed no matter what.\n"
     ]
    }
   ],
   "source": [
    "# 13. What can you do to save a programme from crashing if it encounters an error?\n",
    "\n",
    "'''In Python, we can use exception handling to prevent a program from crashing when it encounters an error. Exception handling allows us to catch\n",
    "and handle errors gracefully, providing a way to handle unexpected situations and continue the execution of the program. The try, except, else,\n",
    "and finally blocks are used for exception handling.'''\n",
    "try:\n",
    "    # Code that might raise an exception\n",
    "    result = 10 / 0  # This will raise a ZeroDivisionError\n",
    "except ZeroDivisionError as e:\n",
    "    # Handle the specific exception\n",
    "    print(f\"Error: {e}\")\n",
    "except Exception as e:\n",
    "    # Handle other exceptions\n",
    "    print(f\"An unexpected error occurred: {e}\")\n",
    "else:\n",
    "    # Code to execute if no exception is raised\n",
    "    print(\"No error occurred.\")\n",
    "finally:\n",
    "    # Code to execute regardless of whether an exception occurred\n",
    "    print(\"This will be executed no matter what.\")\n",
    "\n"
   ]
  },
  {
   "cell_type": "markdown",
   "id": "90c5c7ca-e2cc-45d1-a0a2-d767af5048d9",
   "metadata": {},
   "source": [
    "14. What is the purpose of the try clause? What is the purpose of the except clause?\n",
    "\n",
    "    In Python, the try and except clauses are used for exception handling, allowing you to gracefully handle errors and prevent program crashes.\n",
    "    \n",
    "    Purpose of the try Clause:\n",
    "        The try clause encloses the code that might raise an exception.\n",
    "        It is used to identify a block of code where you expect exceptions to occur.\n",
    "        If an exception occurs within the try block, the program flow is transferred to the corresponding except block.\n",
    "        \n",
    "    Purpose of the except Clause:\n",
    "        The except clause specifies the block of code to be executed when a specific exception occurs.\n",
    "        It allows you to handle different types of exceptions in a customized way.\n",
    "        You can have multiple except blocks to handle different types of exceptions."
   ]
  },
  {
   "cell_type": "code",
   "execution_count": null,
   "id": "55d6fd45-00e2-44dd-9f19-ae0a2b2f5eb5",
   "metadata": {},
   "outputs": [],
   "source": []
  }
 ],
 "metadata": {
  "kernelspec": {
   "display_name": "Python 3 (ipykernel)",
   "language": "python",
   "name": "python3"
  },
  "language_info": {
   "codemirror_mode": {
    "name": "ipython",
    "version": 3
   },
   "file_extension": ".py",
   "mimetype": "text/x-python",
   "name": "python",
   "nbconvert_exporter": "python",
   "pygments_lexer": "ipython3",
   "version": "3.10.6"
  }
 },
 "nbformat": 4,
 "nbformat_minor": 5
}
