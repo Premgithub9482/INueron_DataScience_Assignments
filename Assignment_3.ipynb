{
 "cells": [
  {
   "cell_type": "markdown",
   "id": "2bb47d98",
   "metadata": {},
   "source": [
    "1. Why are functions advantageous to have in your programs?\n",
    "\n",
    "    Functions provide several advantages in programming:\n",
    "    Modularity:\n",
    "        Functions allow you to break down a program into smaller, manageable parts (modules).\n",
    "        Each function performs a specific task, making the code modular and easier to understand.\n",
    "    \n",
    "    Reusability:\n",
    "        Once a function is defined, it can be reused in different parts of the program or even in other programs.\n",
    "        Promotes code reuse, reducing redundancy and making maintenance easier.\n",
    "       \n",
    "    Abstraction:\n",
    "        Functions provide a level of abstraction, allowing you to focus on the functionality of a specific task without worrying\n",
    "        about its internal implementation.\n",
    "        Users of the function only need to know how to use it (the function's interface) without understanding its internal\n",
    "        details.\n",
    "\n",
    "    Readability:\n",
    "        Breaking down a program into functions makes the code more readable and easier to follow.\n",
    "        Each function can have a clear, specific purpose, enhancing overall code readability.\n",
    "    \n",
    "    Testing and Debugging:\n",
    "        Functions facilitate easier testing and debugging since you can isolate and test individual functions independently.\n",
    "        Bugs in a specific function can be identified and fixed without affecting the rest of the program.\n",
    "    \n",
    "    Scoping:\n",
    "        Functions introduce scope, meaning that variables defined inside a function are local to that function, preventing\n",
    "        naming conflicts with variables in other parts of the program.\n",
    "    \n",
    "    Parameterization:\n",
    "        Functions can take parameters, allowing you to create more flexible and versatile code that can adapt to different\n",
    "        inputs.\n",
    "\n",
    "    Encapsulation:\n",
    "        Functions provide a way to encapsulate logic, making it easier to understand and manage the overall flow of a program.\n",
    "        \n",
    "    functions enhance code organization, promote reuse, improve readability, and simplify testing and debugging. They are \n",
    "    fundamental building block in creating structured, maintainable, and scalable software."
   ]
  },
  {
   "cell_type": "markdown",
   "id": "86e30b79",
   "metadata": {},
   "source": [
    "2. When does the code in a function run: when it's specified or when it's called?\n",
    "\n",
    "    The code in a function runs when the function is called, not when it's specified or defined.\n",
    "    \n",
    "    Function Definition:\n",
    "        When you define a function, you are essentially creating a blueprint or a set of instructions for a specific task.\n",
    "        The code inside the function is not executed at the point of definition; it is merely stored until the function is\n",
    "        called.\n",
    "        \n",
    "    Function Call:\n",
    "        To execute the code inside a function, you need to call or invoke the function.\n",
    "        When a function is called, the program transfers control to the function, and the code inside the function block is\n",
    "        executed.\n",
    "        \n",
    "    def my_function():\n",
    "        print(\"This is inside the function.\")\n",
    "\n",
    "    my_function()\n",
    "    \n",
    "    The above code inside my_function is executed only when the function is called with my_function(). Until the function is\n",
    "    called, the code inside it remains dormant."
   ]
  },
  {
   "cell_type": "markdown",
   "id": "1e9b57b7",
   "metadata": {},
   "source": [
    "3. What statement creates a function?\n",
    "\n",
    "    The def statement is used to create a function in Python.\n",
    "    def function_name(parameters):\n",
    "        # function code block\n",
    "    return result"
   ]
  },
  {
   "cell_type": "markdown",
   "id": "0a814a97",
   "metadata": {},
   "source": [
    "4. What is the difference between a function and a function call?\n",
    "\n",
    "    The terms \"function\" and \"function call\" refer to different aspects of using functions in programming:\n",
    "    \n",
    "    Function:\n",
    "        A function is a block of code that performs a specific task or set of tasks\n",
    "        It is defined using the def keyword in Python.\n",
    "        Functions may or may not accept parameters (inputs).\n",
    "        Functions may or may not return a value.\n",
    "    def greet(name):\n",
    "    print(f\"Hello, {name}!\")\n",
    "\n",
    "    Function Call:\n",
    "        A function call is the act of invoking or executing a function to perform its defined task.\n",
    "        It involves specifying the function name followed by parentheses (), which may contain arguments (values passed to the\n",
    "          function, if any).\n",
    "        When a function is called, the program transfers control to the function, and the code inside the function is executed.\n",
    "    greet(\"Alice\") # calling the function greet\n"
   ]
  },
  {
   "cell_type": "markdown",
   "id": "e1298c19",
   "metadata": {},
   "source": [
    "5. How many global scopes are there in a Python program? How many local scopes?\n",
    "\n",
    "    In a Python program, there is typically one global scope and multiple local scopes.\n",
    "    \n",
    "    Global Scope:\n",
    "        There is only one global scope in a Python program.\n",
    "        The global scope encompasses the entire program and is outside of any function or class.\n",
    "        Variables defined in the global scope are accessible from any part of the program.\n",
    "        \n",
    "        global_variable = 10  # Variable in the global scope\n",
    "        def my_function():\n",
    "            print(global_variable)  # Accessing global_variable\n",
    "        my_function()  # Calling the function\n",
    "        \n",
    "    Local Scopes:\n",
    "        Local scopes are created whenever a function is called.\n",
    "        Each function has its own local scope, isolated from the global scope and other function scopes.\n",
    "        Variables defined inside a function are local to that function and cannot be directly accessed from outside.\n",
    "        \n",
    "        def my_function():\n",
    "            local_variable = 5  # Variable in the local scope of my_function\n",
    "            print(local_variable)\n",
    "        my_function()  # Calling the function\n",
    "\n",
    "\n",
    "    ->One global scope exists for the entire program.\n",
    "    ->Each function call creates its own local scope.\n",
    "    ->Variables in the global scope are accessible throughout the program.\n",
    "    ->Variables in local scopes are limited to the function in which they are defined."
   ]
  },
  {
   "cell_type": "markdown",
   "id": "dde14e5e",
   "metadata": {},
   "source": [
    "6. What happens to variables in a local scope when the function call returns?\n",
    "\n",
    "    When a function call returns, the local scope associated with that function is destroyed, and any variables defined within\n",
    "    that local scope cease to exist. This process is known as the \"lifetime\" or \"scope\" of variables.\n",
    "    \n",
    "    def my_function():\n",
    "        local_variable = 5\n",
    "    return local_variable\n",
    "    result = my_function()\n",
    "    print(local_variable) # This would result in an error; local_variable is not definied in this scope\n",
    "\n"
   ]
  },
  {
   "cell_type": "code",
   "execution_count": null,
   "id": "6ae2f26e",
   "metadata": {},
   "outputs": [],
   "source": []
  }
 ],
 "metadata": {
  "kernelspec": {
   "display_name": "Python 3 (ipykernel)",
   "language": "python",
   "name": "python3"
  },
  "language_info": {
   "codemirror_mode": {
    "name": "ipython",
    "version": 3
   },
   "file_extension": ".py",
   "mimetype": "text/x-python",
   "name": "python",
   "nbconvert_exporter": "python",
   "pygments_lexer": "ipython3",
   "version": "3.11.5"
  }
 },
 "nbformat": 4,
 "nbformat_minor": 5
}
