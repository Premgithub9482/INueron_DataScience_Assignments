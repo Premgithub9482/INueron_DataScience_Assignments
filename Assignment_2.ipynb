{
 "cells": [
  {
   "cell_type": "markdown",
   "id": "671d49bb",
   "metadata": {},
   "source": [
    "1.What are the two values of the Boolean data type? How do you write them?\n",
    "\n",
    "    The Boolean data type has two possible values: True and False. These values represent the two truth values in Boolean logic.\n",
    "    In Python, these values are written as\n",
    "        True\n",
    "        False"
   ]
  },
  {
   "cell_type": "markdown",
   "id": "7ccaed22",
   "metadata": {},
   "source": [
    "2. What are the three different types of Boolean operators?\n",
    "\n",
    "    The three main Boolean operators are:\n",
    "    AND Operator (and):\n",
    "        The and operator returns True if both operands are True.\n",
    "        Example: True and False evaluates to False.\n",
    "\n",
    "    OR Operator (or):\n",
    "        The or operator returns True if at least one of the operands is True.\n",
    "        Example: True or False evaluates to True.\n",
    "\n",
    "    NOT Operator (not):\n",
    "        The not operator returns the opposite Boolean value of its operand. If the operand is True, not returns False; if the\n",
    "        operand is False, not returns True.\n",
    "        Example: not True evaluates to False."
   ]
  },
  {
   "cell_type": "markdown",
   "id": "911233d0",
   "metadata": {},
   "source": [
    "3. Make a list of each Boolean operator's truth tables (i.e. every possible combination of Boolean\n",
    "    values for the operator and what it evaluate ).\n",
    "    \n",
    "    AND Operator (and):\n",
    "        A\tB\tA and B\n",
    "        True\tTrue\tTrue\n",
    "        True\tFalse\tFalse\n",
    "        False\tTrue\tFalse\n",
    "        False\tFalse\tFalse\n",
    "        \n",
    "    OR Operator (or):\n",
    "        A\tB\tA or B\n",
    "        True\tTrue\tTrue\n",
    "        True\tFalse\tTrue\n",
    "        False\tTrue\tTrue\n",
    "        False\tFalse\tFalse\n",
    "\n",
    "    NOT Operator (not):\n",
    "        A\tnot A\n",
    "        True\tFalse\n",
    "        False\tTrue"
   ]
  },
  {
   "cell_type": "markdown",
   "id": "3a198ddf",
   "metadata": {},
   "source": [
    "4. What are the values of the following expressions?\n",
    "    (5 > 4) and (3 == 5)\n",
    "    not (5 > 4)\n",
    "    (5 > 4) or (3 == 5)\n",
    "    not ((5 > 4) or (3 == 5))\n",
    "    (True and True) and (True == False)\n",
    "    (not False) or (not True)\n",
    "    \n",
    "    Ans:-\n",
    "    \n",
    "    (5 > 4) and (3 == 5)------------------> False\n",
    "    not (5 > 4) --------------------------> Fasle         \n",
    "    (5 > 4) or (3 == 5) ------------------> True\n",
    "    not ((5 > 4) or (3 == 5)) ------------> False\n",
    "    (True and True) and (True == False) --> False\n",
    "    (not False) or (not True) ------------> True"
   ]
  },
  {
   "cell_type": "markdown",
   "id": "4dd9fd11",
   "metadata": {},
   "source": [
    "5. What are the six comparison operators?\n",
    "\n",
    "    \n",
    "    The six comparison operators in Python are:\n",
    "    \n",
    "        Equal to (==):\n",
    "            Checks if the values of two operands are equal.\n",
    "        \n",
    "        Not equal to (!=):\n",
    "            Checks if the values of two operands are not equal.\n",
    "        \n",
    "        Greater than (>):\n",
    "            Checks if the value of the left operand is greater than the value of the right operand.\n",
    "\n",
    "        Less than (<):\n",
    "            Checks if the value of the left operand is less than the value of the right operand.\n",
    "        \n",
    "        Greater than or equal to (>=):\n",
    "            Checks if the value of the left operand is greater than or equal to the value of the right operand.\n",
    "\n",
    "        Less than or equal to (<=):\n",
    "            Checks if the value of the left operand is less than or equal to the value of the right operand."
   ]
  },
  {
   "cell_type": "markdown",
   "id": "3d98bc80",
   "metadata": {},
   "source": [
    "6. How do you tell the difference between the equal to and assignment operators?Describe a\n",
    "    condition and when you would use one.\n",
    "    \n",
    "    In Python, the equal to operator is ==, and the assignment operator is =.\n",
    "    \n",
    "    Equal To Operator (==):\n",
    "        Used for equality comparison.\n",
    "        Example: x == y checks if the value of x is equal to the value of y.\n",
    "        Returns True if the values are equal, False otherwise.\n",
    "    \n",
    "    Assignment Operator (=):\n",
    "        Used to assign a value to a variable.\n",
    "        Example: x = 5 assigns the value 5 to the variable x.\n",
    "        Does not return a value; it's used for assigning."
   ]
  },
  {
   "cell_type": "code",
   "execution_count": 1,
   "id": "25682d18",
   "metadata": {},
   "outputs": [
    {
     "name": "stdout",
     "output_type": "stream",
     "text": [
      "ham\n",
      "spam\n",
      "spam\n"
     ]
    }
   ],
   "source": [
    "# 7. Identify the three blocks in this code:\n",
    "spam = 0\n",
    "if spam == 10:\n",
    "    print('eggs')\n",
    "if spam > 5:\n",
    "    print('bacon')\n",
    "else:\n",
    "    print('ham')\n",
    "    print('spam')\n",
    "    print('spam')"
   ]
  },
  {
   "cell_type": "code",
   "execution_count": 2,
   "id": "c8c02478",
   "metadata": {},
   "outputs": [
    {
     "name": "stdout",
     "output_type": "stream",
     "text": [
      "enter a integer number(1 or 2 or anything): 1\n",
      "Hello\n"
     ]
    }
   ],
   "source": [
    "'''8. Write code that prints Hello if 1 is stored in spam, prints Howdy if 2 is stored in spam, and prints\n",
    "Greetings! if anything else is stored in spam.'''\n",
    "\n",
    "spam =  int(input('enter a integer number(1 or 2 or anything): '))\n",
    "\n",
    "if spam == 1:\n",
    "    print('Hello')\n",
    "elif spam == 2:\n",
    "    print('Howdy')\n",
    "else:\n",
    "    print('Greetings!')\n"
   ]
  },
  {
   "cell_type": "code",
   "execution_count": null,
   "id": "6528a42c",
   "metadata": {},
   "outputs": [],
   "source": []
  }
 ],
 "metadata": {
  "kernelspec": {
   "display_name": "Python 3 (ipykernel)",
   "language": "python",
   "name": "python3"
  },
  "language_info": {
   "codemirror_mode": {
    "name": "ipython",
    "version": 3
   },
   "file_extension": ".py",
   "mimetype": "text/x-python",
   "name": "python",
   "nbconvert_exporter": "python",
   "pygments_lexer": "ipython3",
   "version": "3.11.5"
  }
 },
 "nbformat": 4,
 "nbformat_minor": 5
}
