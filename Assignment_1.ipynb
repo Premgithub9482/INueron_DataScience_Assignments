{
 "cells": [
  {
   "cell_type": "markdown",
   "id": "d8608f0e",
   "metadata": {},
   "source": [
    "1. In the below elements which of them are values or an expression? eg:- values can be\n",
    "integer or string and expressions will be mathematical operators.\n",
    "*\n",
    "'hello'\n",
    "-87.8\n",
    "-\n",
    "/\n",
    "+\n",
    "6\n",
    " ans:        \n",
    "      Values: 'hello', -87.8, 6\n",
    "      Expressions: *, -, /, +\n"
   ]
  },
  {
   "cell_type": "markdown",
   "id": "fa50ac7c",
   "metadata": {},
   "source": [
    "2. What is the difference between string and variable?\n",
    "\n",
    "    A string and a variable are two distinct concepts in programming, but they are related in the context of variable\n",
    "    assignment.\n",
    "\n",
    "    Difference:\n",
    "        A string is a specific type of data, representing textual information\n",
    "        A variable is a container that holds data, and it can store different types of data, including strings."
   ]
  },
  {
   "cell_type": "markdown",
   "id": "35f8fdb1",
   "metadata": {},
   "source": [
    "3. Describe three different data types.\n",
    "\n",
    "    1) Numeric DataType\n",
    "        a) Integer\n",
    "        b) Float\n",
    "        c) Complex\n",
    "    2) Char Datatype\n",
    "        a) String\n",
    "    3) Boolean Datatype\n",
    "        a) True\n",
    "        b) False"
   ]
  },
  {
   "cell_type": "markdown",
   "id": "63593d04",
   "metadata": {},
   "source": [
    "4. What is an expression made up of? What do all expressions do?\n",
    "\n",
    "    An expression is made up of operands and operators\n",
    "    \n",
    "    Operands:\n",
    "        Operands are the values or variables that the expression operates on.\n",
    "        Examples of operands:\n",
    "            Constants: 5, 3.14\n",
    "            Variables: x, y\n",
    "            String literals: \"Hello\"\n",
    "            Function calls: func()\n",
    "                \n",
    "    Operators:\n",
    "        Operators define how the operands should be combined or manipulated.\n",
    "        Examples of operators:\n",
    "            Arithmetic operators: + (addition), - (subtraction), * (multiplication), / (division)\n",
    "            Comparison operators: == (equal to), != (not equal to), < (less than), > (greater than)\n",
    "            Logical operators: and, or, not\n",
    "            Assignment operators: =, +=, -=, *=, /=\n",
    "                \n",
    "    Expression:\n",
    "        An expression is a combination of one or more operands and operators that can be evaluated to produce a value.\n",
    "        Examples of expressions:\n",
    "            x + y (addition of variables)\n",
    "            3 * (a + b) (multiplication within parentheses)\n",
    "            length > 10 (comparison)\n",
    "            name + \" Smith\" (concatenation of strings)\n",
    "            \n",
    "    What do expressions do?\n",
    "        Expressions, when evaluated, result in a value.\n",
    "        They can be used to perform calculations, compare values, assign values to variables, and more.\n",
    "        Expressions are fundamental to programming as they enable the manipulation and transformation of data.\n",
    "        They play a crucial role in control flow structures, conditional statements, and loop constructs.\n",
    "        Understanding and using expressions effectively are essential for writing meaningful and functional code in programming\n",
    "        languages."
   ]
  },
  {
   "cell_type": "markdown",
   "id": "fcd83d28",
   "metadata": {},
   "source": [
    "5. This assignment statements, like spam = 10. What is the difference between an\n",
    "   expression and a statement?\n",
    "\n",
    "    Expression:\n",
    "        An expression is a combination of values, variables, and operators that can be evaluated to produce a result.\n",
    "        It always returns a value.\n",
    "        Examples of expressions: 3 + 5, x * y, len(\"hello\"), True and False\n",
    "    \n",
    "    Statement:\n",
    "        A statement is a complete line of code that performs some action.\n",
    "        It doesn't necessarily return a value (although some statements do).\n",
    "        Examples of statements: assignment statements, print statements, if statements, loops, function calls, etc.\n",
    "        Example: spam = 10 is an assignment statement.\n",
    "            \n",
    "    Difference:\n",
    "        The key difference lies in whether they produce a value. Expressions always produce a value, while statements may or \n",
    "        may not.\n",
    "        In the assignment statement spam = 10, it is a statement because it is an action (assigning a value to a variable), but\n",
    "        it does not produce a value itself.\n",
    "    \n",
    "    Expression: result = x + y\n",
    "    Statement: if x > 0: print(\"Positive\")\n",
    "    \n",
    "    an expression is a piece of code that produces a value, and a statement is a complete line of code that performs an action.\n",
    "    The assignment statement you provided (spam = 10) is a statement because it is an action that assigns a value to the\n",
    "    variable spam."
   ]
  },
  {
   "cell_type": "markdown",
   "id": "48a9a47b",
   "metadata": {},
   "source": [
    "6. After running the following code, what does the variable bacon contain?\n",
    "    bacon = 22\n",
    "    bacon + 1\n",
    "\n",
    "    After running the provided code:\n",
    "    The variable bacon still contains the value 22. The expression bacon + 1 calculates the result of adding 1 to the value of\n",
    "    bacon, but this result is not assigned back to the variable bacon. To update the value of bacon, need to\n",
    "    assign the result back to the variable: \n",
    "    bacon = bacon + 1  Or\n",
    "    bacon += 1\n",
    "    Without such an assignment, the value of bacon remains unchanged after the expression is evaluated."
   ]
  },
  {
   "cell_type": "markdown",
   "id": "cb236843",
   "metadata": {},
   "source": [
    "7. What should the values of the following two terms be?\n",
    "    'spam'+'spamspam'\n",
    "    'spam' * 3\n",
    "    \n",
    "     The values of both terms are 'spamspamspam'"
   ]
  },
  {
   "cell_type": "markdown",
   "id": "5d940815",
   "metadata": {},
   "source": [
    "8. Why is eggs a valid variable name while 100 is invalid?\n",
    "\n",
    "    In most programming languages, including Python, variable names need to adhere to certain rules.\n",
    "    common rules for valid variable names are:\n",
    "        Must start with a letter or underscore:\n",
    "           Valid: eggs, _eggs\n",
    "           Invalid: 100 (starts with a number)\n",
    "        Can contain letters, numbers, and underscores:\n",
    "            Valid: eggs123, spam_and_eggs\n",
    "            Invalid: eggs!, eggs@123\n",
    "        Cannot be a reserved keyword:\n",
    "            Valid: if, else, for (although using these as variable names is not recommended)\n",
    "            Invalid: if = 10, while = 'hello'\n",
    "\n",
    "    Now, let's specifically address the example you provided:\n",
    "       eggs is a valid variable name because it starts with a letter.\n",
    "       100 is invalid as a variable name because it starts with a number, violating the rule that a variable name must start\n",
    "       with a letter or underscore."
   ]
  },
  {
   "cell_type": "code",
   "execution_count": null,
   "id": "88aae2c6",
   "metadata": {},
   "outputs": [],
   "source": []
  },
  {
   "cell_type": "code",
   "execution_count": null,
   "id": "a729894d",
   "metadata": {},
   "outputs": [],
   "source": []
  }
 ],
 "metadata": {
  "kernelspec": {
   "display_name": "Python 3 (ipykernel)",
   "language": "python",
   "name": "python3"
  },
  "language_info": {
   "codemirror_mode": {
    "name": "ipython",
    "version": 3
   },
   "file_extension": ".py",
   "mimetype": "text/x-python",
   "name": "python",
   "nbconvert_exporter": "python",
   "pygments_lexer": "ipython3",
   "version": "3.11.5"
  }
 },
 "nbformat": 4,
 "nbformat_minor": 5
}
